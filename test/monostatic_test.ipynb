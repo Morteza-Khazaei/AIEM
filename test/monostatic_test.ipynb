{
 "cells": [
  {
   "cell_type": "code",
   "execution_count": 8,
   "id": "b7ebeb63-6e6c-4b30-b939-cdf834f7f5bb",
   "metadata": {},
   "outputs": [
    {
     "name": "stdout",
     "output_type": "stream",
     "text": [
      "Collecting git+https://github.com/Morteza-Khazaei/AIEM.git\n",
      "  Cloning https://github.com/Morteza-Khazaei/AIEM.git to /tmp/pip-req-build-t3jdlbiq\n",
      "  Running command git clone --filter=blob:none --quiet https://github.com/Morteza-Khazaei/AIEM.git /tmp/pip-req-build-t3jdlbiq\n",
      "  Resolved https://github.com/Morteza-Khazaei/AIEM.git to commit 394875be25b162eb6876c32b6d3e13cbdb76fc9e\n",
      "  Preparing metadata (setup.py) ... \u001b[?25ldone\n",
      "\u001b[?25hRequirement already satisfied: matplotlib in /mnt/c/Users/morte/Desktop/aiem/venv/lib/python3.11/site-packages (from AIEM==2024.8) (3.9.2)\n",
      "Requirement already satisfied: numpy in /mnt/c/Users/morte/Desktop/aiem/venv/lib/python3.11/site-packages (from AIEM==2024.8) (2.1.0)\n",
      "Requirement already satisfied: scipy in /mnt/c/Users/morte/Desktop/aiem/venv/lib/python3.11/site-packages (from AIEM==2024.8) (1.14.1)\n",
      "Requirement already satisfied: contourpy>=1.0.1 in /mnt/c/Users/morte/Desktop/aiem/venv/lib/python3.11/site-packages (from matplotlib->AIEM==2024.8) (1.3.0)\n",
      "Requirement already satisfied: cycler>=0.10 in /mnt/c/Users/morte/Desktop/aiem/venv/lib/python3.11/site-packages (from matplotlib->AIEM==2024.8) (0.12.1)\n",
      "Requirement already satisfied: fonttools>=4.22.0 in /mnt/c/Users/morte/Desktop/aiem/venv/lib/python3.11/site-packages (from matplotlib->AIEM==2024.8) (4.53.1)\n",
      "Requirement already satisfied: kiwisolver>=1.3.1 in /mnt/c/Users/morte/Desktop/aiem/venv/lib/python3.11/site-packages (from matplotlib->AIEM==2024.8) (1.4.5)\n",
      "Requirement already satisfied: packaging>=20.0 in /mnt/c/Users/morte/Desktop/aiem/venv/lib/python3.11/site-packages (from matplotlib->AIEM==2024.8) (24.1)\n",
      "Requirement already satisfied: pillow>=8 in /mnt/c/Users/morte/Desktop/aiem/venv/lib/python3.11/site-packages (from matplotlib->AIEM==2024.8) (10.4.0)\n",
      "Requirement already satisfied: pyparsing>=2.3.1 in /mnt/c/Users/morte/Desktop/aiem/venv/lib/python3.11/site-packages (from matplotlib->AIEM==2024.8) (3.1.4)\n",
      "Requirement already satisfied: python-dateutil>=2.7 in /mnt/c/Users/morte/Desktop/aiem/venv/lib/python3.11/site-packages (from matplotlib->AIEM==2024.8) (2.9.0.post0)\n",
      "Requirement already satisfied: six>=1.5 in /mnt/c/Users/morte/Desktop/aiem/venv/lib/python3.11/site-packages (from python-dateutil>=2.7->matplotlib->AIEM==2024.8) (1.16.0)\n",
      "Building wheels for collected packages: AIEM\n",
      "  Building wheel for AIEM (setup.py) ... \u001b[?25ldone\n",
      "\u001b[?25h  Created wheel for AIEM: filename=AIEM-2024.8-py3-none-any.whl size=7109 sha256=cde7438371e8ea5aa38d6b13a8345b81b6da9c77793f92e23eb635a9dc517f97\n",
      "  Stored in directory: /tmp/pip-ephem-wheel-cache-5g9jng7t/wheels/45/9a/b3/c75f20518fc5afdbfb17d3c126bfc2384c79eca4e01d9232e2\n",
      "Successfully built AIEM\n",
      "Installing collected packages: AIEM\n",
      "Successfully installed AIEM-2024.8\n"
     ]
    }
   ],
   "source": [
    "! pip install git+https://github.com/Morteza-Khazaei/AIEM.git"
   ]
  },
  {
   "cell_type": "code",
   "execution_count": 11,
   "id": "485e1400-f8b7-40ea-80a1-3571c9780dff",
   "metadata": {},
   "outputs": [],
   "source": [
    "from aiem import AIEM\n",
    "import numpy as np\n",
    "import matplotlib.pyplot as plt"
   ]
  },
  {
   "cell_type": "code",
   "execution_count": 12,
   "id": "e681582f-02d2-4238-9575-fba5dff9a9ff",
   "metadata": {},
   "outputs": [
    {
     "name": "stdout",
     "output_type": "stream",
     "text": [
      "theta:  [ 1  2  3  4  5  6  7  8  9 10 11 12 13 14 15 16 17 18 19 20 21 22 23 24\n",
      " 25 26 27 28 29 30 31 32 33 34 35 36 37 38 39 40 41 42 43 44 45 46 47 48\n",
      " 49 50 51 52 53 54 55 56 57 58 59]\n",
      "phi:  179.9999\n",
      "sigma:  0.001\n",
      "cl:  0.01\n",
      "eps:  [12.+1.8j]\n"
     ]
    },
    {
     "ename": "AttributeError",
     "evalue": "`np.complex_` was removed in the NumPy 2.0 release. Use `np.complex128` instead.",
     "output_type": "error",
     "traceback": [
      "\u001b[0;31m---------------------------------------------------------------------------\u001b[0m",
      "\u001b[0;31mAttributeError\u001b[0m                            Traceback (most recent call last)",
      "Cell \u001b[0;32mIn[12], line 21\u001b[0m\n\u001b[1;32m     17\u001b[0m sig \u001b[38;5;241m=\u001b[39m {\u001b[38;5;124m'\u001b[39m\u001b[38;5;124mHH\u001b[39m\u001b[38;5;124m'\u001b[39m: [], \u001b[38;5;124m'\u001b[39m\u001b[38;5;124mVH\u001b[39m\u001b[38;5;124m'\u001b[39m: [], \u001b[38;5;124m'\u001b[39m\u001b[38;5;124mHV\u001b[39m\u001b[38;5;124m'\u001b[39m: [], \u001b[38;5;124m'\u001b[39m\u001b[38;5;124mVV\u001b[39m\u001b[38;5;124m'\u001b[39m: []}\n\u001b[1;32m     18\u001b[0m \u001b[38;5;28;01mfor\u001b[39;00m i \u001b[38;5;129;01min\u001b[39;00m \u001b[38;5;28mrange\u001b[39m(\u001b[38;5;28mlen\u001b[39m(theta)):\n\u001b[1;32m     19\u001b[0m     \u001b[38;5;66;03m# print(f'theta: {theta[i]}')\u001b[39;00m\n\u001b[0;32m---> 21\u001b[0m     aiem \u001b[38;5;241m=\u001b[39m \u001b[43mAIEM\u001b[49m\u001b[43m(\u001b[49m\u001b[43mfrq_ghz\u001b[49m\u001b[38;5;241;43m=\u001b[39;49m\u001b[43mfrq\u001b[49m\u001b[43m,\u001b[49m\u001b[43m \u001b[49m\u001b[43mtheta_i\u001b[49m\u001b[38;5;241;43m=\u001b[39;49m\u001b[43mtheta\u001b[49m\u001b[43m[\u001b[49m\u001b[43mi\u001b[49m\u001b[43m]\u001b[49m\u001b[43m,\u001b[49m\u001b[43m \u001b[49m\u001b[43mtheta_s\u001b[49m\u001b[38;5;241;43m=\u001b[39;49m\u001b[43mtheta\u001b[49m\u001b[43m[\u001b[49m\u001b[43mi\u001b[49m\u001b[43m]\u001b[49m\u001b[43m,\u001b[49m\u001b[43m \u001b[49m\u001b[43mphi_i\u001b[49m\u001b[38;5;241;43m=\u001b[39;49m\u001b[43mphi\u001b[49m\u001b[43m,\u001b[49m\u001b[43m \u001b[49m\u001b[43mphi_s\u001b[49m\u001b[38;5;241;43m=\u001b[39;49m\u001b[43mphi\u001b[49m\u001b[43m,\u001b[49m\u001b[43m \u001b[49m\u001b[43msigma\u001b[49m\u001b[38;5;241;43m=\u001b[39;49m\u001b[43msigma\u001b[49m\u001b[43m,\u001b[49m\u001b[43m \u001b[49m\u001b[43mcl\u001b[49m\u001b[38;5;241;43m=\u001b[39;49m\u001b[43mcl\u001b[49m\u001b[43m,\u001b[49m\u001b[43m \u001b[49m\u001b[43meps\u001b[49m\u001b[38;5;241;43m=\u001b[39;49m\u001b[43meps\u001b[49m\u001b[43m,\u001b[49m\u001b[43m \u001b[49m\u001b[43mitype\u001b[49m\u001b[38;5;241;43m=\u001b[39;49m\u001b[38;5;124;43m'\u001b[39;49m\u001b[38;5;124;43m1\u001b[39;49m\u001b[38;5;124;43m'\u001b[39;49m\u001b[43m)\u001b[49m\n\u001b[1;32m     22\u001b[0m     HH, VH, HV, VV \u001b[38;5;241m=\u001b[39m aiem\u001b[38;5;241m.\u001b[39mrun()\n\u001b[1;32m     23\u001b[0m     \u001b[38;5;66;03m# print(f'HH: {HH}, VH: {VH}, HV: {HV}, VV: {VV}')\u001b[39;00m\n",
      "File \u001b[0;32m/mnt/c/Users/morte/Desktop/aiem/venv/lib/python3.11/site-packages/aiem/core.py:56\u001b[0m, in \u001b[0;36mAIEM.__init__\u001b[0;34m(self, frq_ghz, theta_i, theta_s, phi_i, phi_s, sigma, cl, eps, itype)\u001b[0m\n\u001b[1;32m     53\u001b[0m fhh, fvv, fhv, fvh \u001b[38;5;241m=\u001b[39m \u001b[38;5;28mself\u001b[39m\u001b[38;5;241m.\u001b[39mkirchhoff_field_coefficients(rv, rh, rvh)\n\u001b[1;32m     55\u001b[0m \u001b[38;5;66;03m# Compute scattering coefficients!\u001b[39;00m\n\u001b[0;32m---> 56\u001b[0m Ivv, Ihh, Ihv, Ivh, CIvv, CIhh, CIhv, CIvh \u001b[38;5;241m=\u001b[39m \u001b[38;5;28;43mself\u001b[39;49m\u001b[38;5;241;43m.\u001b[39;49m\u001b[43mcompute_scattering_coefficients\u001b[49m\u001b[43m(\u001b[49m\u001b[43mrv\u001b[49m\u001b[43m,\u001b[49m\u001b[43m \u001b[49m\u001b[43mrh\u001b[49m\u001b[43m,\u001b[49m\u001b[43m \u001b[49m\u001b[43mrvh\u001b[49m\u001b[43m,\u001b[49m\u001b[43m \u001b[49m\u001b[43mrhv\u001b[49m\u001b[43m,\u001b[49m\u001b[43m \u001b[49m\u001b[43mfvv\u001b[49m\u001b[43m,\u001b[49m\u001b[43m \u001b[49m\u001b[43mfhh\u001b[49m\u001b[43m,\u001b[49m\u001b[43m \u001b[49m\u001b[43mfhv\u001b[49m\u001b[43m,\u001b[49m\u001b[43m \u001b[49m\u001b[43mfvh\u001b[49m\u001b[43m)\u001b[49m\n\u001b[1;32m     58\u001b[0m \u001b[38;5;66;03m# Compute backscattering from the surface\u001b[39;00m\n\u001b[1;32m     59\u001b[0m \u001b[38;5;28mself\u001b[39m\u001b[38;5;241m.\u001b[39mVV, \u001b[38;5;28mself\u001b[39m\u001b[38;5;241m.\u001b[39mHH, \u001b[38;5;28mself\u001b[39m\u001b[38;5;241m.\u001b[39mHV, \u001b[38;5;28mself\u001b[39m\u001b[38;5;241m.\u001b[39mVH \u001b[38;5;241m=\u001b[39m \u001b[38;5;28mself\u001b[39m\u001b[38;5;241m.\u001b[39mcompute_sigma0(Ivv, CIvv, Ihh, CIhh, Ihv, CIhv, Ivh, CIvh)\n",
      "File \u001b[0;32m/mnt/c/Users/morte/Desktop/aiem/venv/lib/python3.11/site-packages/aiem/core.py:253\u001b[0m, in \u001b[0;36mAIEM.compute_scattering_coefficients\u001b[0;34m(self, rv, rh, rvh, rhv, fvv, fhh, fhv, fvh)\u001b[0m\n\u001b[1;32m    250\u001b[0m Fvhbdns \u001b[38;5;241m=\u001b[39m \u001b[38;5;28mself\u001b[39m\u001b[38;5;241m.\u001b[39mfbvh(\u001b[38;5;241m-\u001b[39m\u001b[38;5;28mself\u001b[39m\u001b[38;5;241m.\u001b[39msis \u001b[38;5;241m*\u001b[39m \u001b[38;5;28mself\u001b[39m\u001b[38;5;241m.\u001b[39mcsfs, \u001b[38;5;241m-\u001b[39m\u001b[38;5;28mself\u001b[39m\u001b[38;5;241m.\u001b[39msis \u001b[38;5;241m*\u001b[39m \u001b[38;5;28mself\u001b[39m\u001b[38;5;241m.\u001b[39msfs, \u001b[38;5;241m-\u001b[39mqq4, \u001b[38;5;241m-\u001b[39mqq6, qqts, rvh) \u001b[38;5;241m*\u001b[39m \u001b[38;5;28mself\u001b[39m\u001b[38;5;241m.\u001b[39mexpal(\u001b[38;5;241m-\u001b[39mqq6)\n\u001b[1;32m    252\u001b[0m \u001b[38;5;66;03m# Compute scattering coefficients!\u001b[39;00m\n\u001b[0;32m--> 253\u001b[0m Ivv, Ihh, Ihv, Ivh \u001b[38;5;241m=\u001b[39m (np\u001b[38;5;241m.\u001b[39mempty((\u001b[38;5;28mself\u001b[39m\u001b[38;5;241m.\u001b[39miterm,) \u001b[38;5;241m+\u001b[39m \u001b[38;5;28mself\u001b[39m\u001b[38;5;241m.\u001b[39mer\u001b[38;5;241m.\u001b[39mshape, dtype\u001b[38;5;241m=\u001b[39mnp\u001b[38;5;241m.\u001b[39mcomplex_) \u001b[38;5;28;01mfor\u001b[39;00m _ \u001b[38;5;129;01min\u001b[39;00m \u001b[38;5;28mrange\u001b[39m(\u001b[38;5;241m4\u001b[39m))\n\u001b[1;32m    254\u001b[0m CIvv, CIhh, CIhv, CIvh \u001b[38;5;241m=\u001b[39m (np\u001b[38;5;241m.\u001b[39mempty((\u001b[38;5;28mself\u001b[39m\u001b[38;5;241m.\u001b[39miterm,) \u001b[38;5;241m+\u001b[39m \u001b[38;5;28mself\u001b[39m\u001b[38;5;241m.\u001b[39mer\u001b[38;5;241m.\u001b[39mshape, dtype\u001b[38;5;241m=\u001b[39mnp\u001b[38;5;241m.\u001b[39mcomplex_) \u001b[38;5;28;01mfor\u001b[39;00m _ \u001b[38;5;129;01min\u001b[39;00m \u001b[38;5;28mrange\u001b[39m(\u001b[38;5;241m4\u001b[39m))\n\u001b[1;32m    256\u001b[0m \u001b[38;5;28;01mfor\u001b[39;00m n \u001b[38;5;129;01min\u001b[39;00m \u001b[38;5;28mrange\u001b[39m(\u001b[38;5;241m1\u001b[39m, \u001b[38;5;28mself\u001b[39m\u001b[38;5;241m.\u001b[39miterm):\n",
      "File \u001b[0;32m/mnt/c/Users/morte/Desktop/aiem/venv/lib/python3.11/site-packages/aiem/core.py:253\u001b[0m, in \u001b[0;36m<genexpr>\u001b[0;34m(.0)\u001b[0m\n\u001b[1;32m    250\u001b[0m Fvhbdns \u001b[38;5;241m=\u001b[39m \u001b[38;5;28mself\u001b[39m\u001b[38;5;241m.\u001b[39mfbvh(\u001b[38;5;241m-\u001b[39m\u001b[38;5;28mself\u001b[39m\u001b[38;5;241m.\u001b[39msis \u001b[38;5;241m*\u001b[39m \u001b[38;5;28mself\u001b[39m\u001b[38;5;241m.\u001b[39mcsfs, \u001b[38;5;241m-\u001b[39m\u001b[38;5;28mself\u001b[39m\u001b[38;5;241m.\u001b[39msis \u001b[38;5;241m*\u001b[39m \u001b[38;5;28mself\u001b[39m\u001b[38;5;241m.\u001b[39msfs, \u001b[38;5;241m-\u001b[39mqq4, \u001b[38;5;241m-\u001b[39mqq6, qqts, rvh) \u001b[38;5;241m*\u001b[39m \u001b[38;5;28mself\u001b[39m\u001b[38;5;241m.\u001b[39mexpal(\u001b[38;5;241m-\u001b[39mqq6)\n\u001b[1;32m    252\u001b[0m \u001b[38;5;66;03m# Compute scattering coefficients!\u001b[39;00m\n\u001b[0;32m--> 253\u001b[0m Ivv, Ihh, Ihv, Ivh \u001b[38;5;241m=\u001b[39m (np\u001b[38;5;241m.\u001b[39mempty((\u001b[38;5;28mself\u001b[39m\u001b[38;5;241m.\u001b[39miterm,) \u001b[38;5;241m+\u001b[39m \u001b[38;5;28mself\u001b[39m\u001b[38;5;241m.\u001b[39mer\u001b[38;5;241m.\u001b[39mshape, dtype\u001b[38;5;241m=\u001b[39m\u001b[43mnp\u001b[49m\u001b[38;5;241;43m.\u001b[39;49m\u001b[43mcomplex_\u001b[49m) \u001b[38;5;28;01mfor\u001b[39;00m _ \u001b[38;5;129;01min\u001b[39;00m \u001b[38;5;28mrange\u001b[39m(\u001b[38;5;241m4\u001b[39m))\n\u001b[1;32m    254\u001b[0m CIvv, CIhh, CIhv, CIvh \u001b[38;5;241m=\u001b[39m (np\u001b[38;5;241m.\u001b[39mempty((\u001b[38;5;28mself\u001b[39m\u001b[38;5;241m.\u001b[39miterm,) \u001b[38;5;241m+\u001b[39m \u001b[38;5;28mself\u001b[39m\u001b[38;5;241m.\u001b[39mer\u001b[38;5;241m.\u001b[39mshape, dtype\u001b[38;5;241m=\u001b[39mnp\u001b[38;5;241m.\u001b[39mcomplex_) \u001b[38;5;28;01mfor\u001b[39;00m _ \u001b[38;5;129;01min\u001b[39;00m \u001b[38;5;28mrange\u001b[39m(\u001b[38;5;241m4\u001b[39m))\n\u001b[1;32m    256\u001b[0m \u001b[38;5;28;01mfor\u001b[39;00m n \u001b[38;5;129;01min\u001b[39;00m \u001b[38;5;28mrange\u001b[39m(\u001b[38;5;241m1\u001b[39m, \u001b[38;5;28mself\u001b[39m\u001b[38;5;241m.\u001b[39miterm):\n",
      "File \u001b[0;32m/mnt/c/Users/morte/Desktop/aiem/venv/lib/python3.11/site-packages/numpy/__init__.py:400\u001b[0m, in \u001b[0;36m__getattr__\u001b[0;34m(attr)\u001b[0m\n\u001b[1;32m    397\u001b[0m     \u001b[38;5;28;01mraise\u001b[39;00m \u001b[38;5;167;01mAttributeError\u001b[39;00m(__former_attrs__[attr], name\u001b[38;5;241m=\u001b[39m\u001b[38;5;28;01mNone\u001b[39;00m)\n\u001b[1;32m    399\u001b[0m \u001b[38;5;28;01mif\u001b[39;00m attr \u001b[38;5;129;01min\u001b[39;00m __expired_attributes__:\n\u001b[0;32m--> 400\u001b[0m     \u001b[38;5;28;01mraise\u001b[39;00m \u001b[38;5;167;01mAttributeError\u001b[39;00m(\n\u001b[1;32m    401\u001b[0m         \u001b[38;5;124mf\u001b[39m\u001b[38;5;124m\"\u001b[39m\u001b[38;5;124m`np.\u001b[39m\u001b[38;5;132;01m{\u001b[39;00mattr\u001b[38;5;132;01m}\u001b[39;00m\u001b[38;5;124m` was removed in the NumPy 2.0 release. \u001b[39m\u001b[38;5;124m\"\u001b[39m\n\u001b[1;32m    402\u001b[0m         \u001b[38;5;124mf\u001b[39m\u001b[38;5;124m\"\u001b[39m\u001b[38;5;132;01m{\u001b[39;00m__expired_attributes__[attr]\u001b[38;5;132;01m}\u001b[39;00m\u001b[38;5;124m\"\u001b[39m,\n\u001b[1;32m    403\u001b[0m         name\u001b[38;5;241m=\u001b[39m\u001b[38;5;28;01mNone\u001b[39;00m\n\u001b[1;32m    404\u001b[0m     )\n\u001b[1;32m    406\u001b[0m \u001b[38;5;28;01mif\u001b[39;00m attr \u001b[38;5;241m==\u001b[39m \u001b[38;5;124m\"\u001b[39m\u001b[38;5;124mchararray\u001b[39m\u001b[38;5;124m\"\u001b[39m:\n\u001b[1;32m    407\u001b[0m     warnings\u001b[38;5;241m.\u001b[39mwarn(\n\u001b[1;32m    408\u001b[0m         \u001b[38;5;124m\"\u001b[39m\u001b[38;5;124m`np.chararray` is deprecated and will be removed from \u001b[39m\u001b[38;5;124m\"\u001b[39m\n\u001b[1;32m    409\u001b[0m         \u001b[38;5;124m\"\u001b[39m\u001b[38;5;124mthe main namespace in the future. Use an array with a string \u001b[39m\u001b[38;5;124m\"\u001b[39m\n\u001b[1;32m    410\u001b[0m         \u001b[38;5;124m\"\u001b[39m\u001b[38;5;124mor bytes dtype instead.\u001b[39m\u001b[38;5;124m\"\u001b[39m, \u001b[38;5;167;01mDeprecationWarning\u001b[39;00m, stacklevel\u001b[38;5;241m=\u001b[39m\u001b[38;5;241m2\u001b[39m)\n",
      "\u001b[0;31mAttributeError\u001b[0m: `np.complex_` was removed in the NumPy 2.0 release. Use `np.complex128` instead."
     ]
    }
   ],
   "source": [
    "frq = 5.405\n",
    "itype = ['2',]\n",
    "theta = np.arange(1, 60, 1)\n",
    "print('theta: ', theta)\n",
    "phi = 179.9999\n",
    "print('phi: ', phi)\n",
    "sigma = 0.001\n",
    "print('sigma: ', sigma)\n",
    "cl = 0.01\n",
    "print('cl: ', cl)\n",
    "err = 12\n",
    "eri = 1.8\n",
    "eps = np.array([12+1.8*1j,], dtype=complex)\n",
    "print('eps: ', eps)\n",
    "\n",
    "# Loop through theta to get related backscatter from AIEM\n",
    "sig = {'HH': [], 'VH': [], 'HV': [], 'VV': []}\n",
    "for i in range(len(theta)):\n",
    "    # print(f'theta: {theta[i]}')\n",
    "\n",
    "    aiem = AIEM(frq_ghz=frq, theta_i=theta[i], theta_s=theta[i], phi_i=phi, phi_s=phi, sigma=sigma, cl=cl, eps=eps, itype='1')\n",
    "    HH, VH, HV, VV = aiem.run()\n",
    "    # print(f'HH: {HH}, VH: {VH}, HV: {HV}, VV: {VV}')\n",
    "    sig['HH'].append(HH)\n",
    "    sig['VH'].append(VH)\n",
    "    sig['HV'].append(HV)\n",
    "    sig['VV'].append(VV)\n",
    "\n",
    "# plot HH and VV\n",
    "plt.plot(theta, sig['HH'], label='HH')\n",
    "plt.plot(theta, sig['VV'], label='VV')\n",
    "plt.xlabel('theta')\n",
    "plt.ylabel('sigma')\n",
    "plt.legend()\n",
    "plt.show()"
   ]
  },
  {
   "cell_type": "code",
   "execution_count": null,
   "id": "14a77c08-3b9d-4e3e-9f5c-77f9a1140d19",
   "metadata": {},
   "outputs": [],
   "source": []
  }
 ],
 "metadata": {
  "kernelspec": {
   "display_name": "Python 3 (ipykernel)",
   "language": "python",
   "name": "python3"
  },
  "language_info": {
   "codemirror_mode": {
    "name": "ipython",
    "version": 3
   },
   "file_extension": ".py",
   "mimetype": "text/x-python",
   "name": "python",
   "nbconvert_exporter": "python",
   "pygments_lexer": "ipython3",
   "version": "3.11.2"
  }
 },
 "nbformat": 4,
 "nbformat_minor": 5
}
